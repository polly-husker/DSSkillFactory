{
 "cells": [
  {
   "cell_type": "markdown",
   "metadata": {},
   "source": [
    "a\n",
    "\n",
    "stud_math.csv\n",
    "Описание датасета\n",
    "Посмотрим на переменные, которые содержит датасет:\n",
    "\n",
    "1 school — аббревиатура школы, в которой учится ученик\n",
    "\n",
    "2 sex — пол ученика ('F' - женский, 'M' - мужской)\n",
    "\n",
    "3 age — возраст ученика (от 15 до 22)\n",
    "\n",
    "4 address — тип адреса ученика ('U' - городской, 'R' - за городом)\n",
    "\n",
    "5 famsize — размер семьи('LE3' <= 3, 'GT3' >3)\n",
    "\n",
    "6 Pstatus — статус совместного жилья родителей ('T' - живут вместе 'A' - раздельно)\n",
    "\n",
    "7 Medu — образование матери (0 - нет, 1 - 4 класса, 2 - 5-9 классы, 3 - среднее специальное или 11 классов, 4 - высшее)\n",
    "\n",
    "8 Fedu — образование отца (0 - нет, 1 - 4 класса, 2 - 5-9 классы, 3 - среднее специальное или 11 классов, 4 - высшее)\n",
    "\n",
    "9 Mjob — работа матери ('teacher' - учитель, 'health' - сфера здравоохранения, 'services' - гос служба, 'at_home' - не работает, 'other' - другое)\n",
    "\n",
    "10 Fjob — работа отца ('teacher' - учитель, 'health' - сфера здравоохранения, 'services' - гос служба, 'at_home' - не работает, 'other' - другое)\n",
    "\n",
    "11 reason — причина выбора школы ('home' - близость к дому, 'reputation' - репутация школы, 'course' - образовательная программа, 'other' - другое)\n",
    "\n",
    "12 guardian — опекун ('mother' - мать, 'father' - отец, 'other' - другое)\n",
    "\n",
    "13 traveltime — время в пути до школы (1 - <15 мин., 2 - 15-30 мин., 3 - 30-60 мин., 4 - >60 мин.)\n",
    "\n",
    "14 studytime — время на учёбу помимо школы в неделю (1 - <2 часов, 2 - 2-5 часов, 3 - 5-10 часов, 4 - >10 часов)\n",
    "\n",
    "15 failures — количество внеучебных неудач (n, если 1<=n<=3, иначе 0)\n",
    "\n",
    "16 schoolsup — дополнительная образовательная поддержка (yes или no)\n",
    "\n",
    "17 famsup — семейная образовательная поддержка (yes или no)\n",
    "\n",
    "18 paid — дополнительные платные занятия по математике (yes или no)\n",
    "\n",
    "19 activities — дополнительные внеучебные занятия (yes или no)\n",
    "\n",
    "20 nursery — посещал детский сад (yes или no)\n",
    "\n",
    "21 higher — хочет получить высшее образование (yes или no)\n",
    "\n",
    "22 internet — наличие интернета дома (yes или no)\n",
    "\n",
    "23 romantic — в романтических отношениях (yes или no)\n",
    "\n",
    "24 famrel — семейные отношения (от 1 - очень плохо до 5 - очень хорошо)\n",
    "\n",
    "25 freetime — свободное время после школы (от 1 - очень мало до 5 - очень мого)\n",
    "\n",
    "26 goout — проведение времени с друзьями (от 1 - очень мало до 5 - очень много)\n",
    "\n",
    "27 health — текущее состояние здоровья (от 1 - очень плохо до 5 - очень хорошо)\n",
    "\n",
    "28 absences — количество пропущенных занятий\n",
    "\n",
    "29 score — баллы по госэкзамену по математике"
   ]
  },
  {
   "cell_type": "code",
   "execution_count": null,
   "metadata": {},
   "outputs": [],
   "source": [
    "from scipy.stats import ttest_ind\n",
    "from itertools import combinations\n",
    "import pandas as pd\n",
    "import matplotlib.pyplot as plt\n",
    "import seaborn as sns\n",
    "sns.set()\n",
    "\n",
    "\n",
    "pd.set_option('display.max_rows', 50)  # показывать больше строк\n",
    "pd.set_option('display.max_columns', 50)  # показывать больше колонок\n",
    "\n",
    "students = pd.read_csv('stud_math.csv')\n",
    "\n",
    "%matplotlib inline"
   ]
  },
  {
   "cell_type": "code",
   "execution_count": null,
   "metadata": {},
   "outputs": [],
   "source": [
    "students.info()"
   ]
  },
  {
   "cell_type": "code",
   "execution_count": null,
   "metadata": {},
   "outputs": [],
   "source": [
    "students.describe(include=[object])"
   ]
  },
  {
   "cell_type": "code",
   "execution_count": null,
   "metadata": {},
   "outputs": [],
   "source": [
    "# pre functions\n",
    "\n",
    "\n",
    "'''отображает количество уникальных значений в столбце, частоту встречаний значений, \n",
    "info() про столбец, стат.данные для номинативных значений (count, unique, top, freq),\n",
    "график частоты встречающихся значений, \n",
    "если есть порпущенные значения - количество таких записей,\n",
    "таблицу всех записей с пропущенными значениями'''\n",
    "\n",
    "\n",
    "def column_info(column):\n",
    "    print('Столбец ', column)\n",
    "    print('---------------------------')\n",
    "    print('Уникальных значений', students[column].nunique())\n",
    "\n",
    "    display(students[column].value_counts())\n",
    "    students.loc[:, [column]].info()\n",
    "\n",
    "    if students[column].dtype == object:\n",
    "        display(students[column].describe(include=[object]))\n",
    "\n",
    "    sns.countplot(x=column, data=students)\n",
    "    plt.show()\n",
    "    st_with_na = students.loc[students[column].isna()]\n",
    "    if len(st_with_na) > 0:\n",
    "        print('Пропущено значений ', len(st_with_na))\n",
    "        display(st_with_na)\n",
    "\n",
    "\n",
    "'''отображает стат.данные для числовых столбцов'''\n",
    "\n",
    "\n",
    "def numeric_col_info(column):\n",
    "    st = students[column].value_counts().reset_index()\n",
    "\n",
    "    display(students[column].describe())\n",
    "\n",
    "\n",
    "'''для числовых столбцов: отображает границы выбросов, к-тво выбросов'''\n",
    "\n",
    "\n",
    "def has_outliers(column, df=students):\n",
    "    perc25 = df[column].quantile(0.25)\n",
    "    perc75 = df[column].quantile(0.75)\n",
    "    IQR = perc75 - perc25\n",
    "\n",
    "    print('---------------------------')\n",
    "    print('Границы выбросов: ', perc25-1.5*IQR, ', ', perc75+1.5*IQR)\n",
    "    print('---------------------------')\n",
    "\n",
    "    ok_values_cnt = (df[column].loc[df[column].between(\n",
    "        perc25-1.5*IQR, perc75+1.5*IQR)]).count()\n",
    "    outliers_cnt = df[column].count() - ok_values_cnt\n",
    "\n",
    "    print('---------------------------')\n",
    "    print('Количество выбросов', outliers_cnt)\n",
    "    print('---------------------------')\n",
    "\n",
    "\n",
    "'''заменяет NaN значение в столбце на моду (самое частое значение, которое встречается в столбце)'''\n",
    "\n",
    "\n",
    "def replace_nan_by_mode(column):\n",
    "    students[column].fillna(students[column].mode()[0], inplace=True)\n",
    "    column_info(column)\n",
    "\n",
    "\n",
    "'''заменяет NaN значение в столбце на медиану '''\n",
    "\n",
    "\n",
    "def replace_nan_by_median(column):\n",
    "    students[column].fillna(students[column].median(), inplace=True)\n",
    "    column_info(column)\n",
    "\n",
    "\n",
    "'''для столбца, который содержит номинативные числовые данные переводит записи в строки\n",
    "для удобтва использования функции describe(include=[object])'''\n",
    "\n",
    "\n",
    "def nominative_column_to_str(column):\n",
    "    students[column] = students[column].apply(\n",
    "        lambda x: x if pd.isna(x) else str(int(x)))\n",
    "\n",
    "\n",
    "'''строит боксплот для зависимости столбца и успешности (score), \n",
    "учитывается 10 самых часто встречающихся категорий значений для столбца\n",
    "строит график частоты встречания самих значений столбца (на том же срезе выборки)'''\n",
    "\n",
    "\n",
    "def get_boxplot(column):\n",
    "\n",
    "    fig = plt.figure()\n",
    "\n",
    "    fig, axes = plt.subplots(figsize=(6, 4))\n",
    "    sns.boxplot(x=column,\n",
    "                y='score',\n",
    "                data=students.loc[students.loc[:, column].isin(\n",
    "                    students.loc[:, column].value_counts().index[:10])],\n",
    "                ax=axes)\n",
    "    axes.set_title('Boxplot for '+column)\n",
    "    plt.xticks(rotation=45)\n",
    "    plt.show()\n",
    "\n",
    "    sns.countplot(x=column, data=students.loc[students.loc[:, column].isin(\n",
    "        students.loc[:, column].value_counts().index[:10])])\n",
    "    plt.show()\n",
    "\n",
    "\n",
    "'''т-тест (ttest_ind) для определения значимости столбца по отношению к успешности'''\n",
    "\n",
    "\n",
    "def get_stat_dif(column):\n",
    "    cols = students.loc[:, column].value_counts().index[:10]\n",
    "    combinations_all = list(combinations(cols, 2))\n",
    "    for comb in combinations_all:\n",
    "        if ttest_ind(students.loc[students.loc[:, column] == comb[0], 'score'],\n",
    "                     students.loc[students.loc[:, column] == comb[1], 'score']).pvalue \\\n",
    "                <= 0.05/len(combinations_all):  # Учли поправку Бонферони\n",
    "            print('Найдены статистически значимые различия для колонки', column)\n",
    "            break"
   ]
  },
  {
   "cell_type": "code",
   "execution_count": null,
   "metadata": {},
   "outputs": [],
   "source": [
    "'''заменить NaN значения, сохраняя пропорции распределения значений \n",
    "в полностью заполненных строках данных (если всего значений 2)'''\n",
    "'''a/b = x/y; x+y=n1, n1 - количество NaN записей; a, b - частота встречания записей top_val, sec_val'''\n",
    "'''без глобальных переменных не нашла как выкрутиться'''\n",
    "\n",
    "import math\n",
    "top_val = 0\n",
    "sec_val = 0\n",
    "cnt = 0\n",
    "\n",
    "\n",
    "def replace_nan_in_propotion(column):\n",
    "    global top_val\n",
    "    global sec_val\n",
    "    global cnt\n",
    "\n",
    "    top_val = st[column].value_counts().reset_index()['index'][0]\n",
    "    sec_val = st[column].value_counts().reset_index()['index'][1]\n",
    "    top_fr = st[column].value_counts().reset_index()[column][0]\n",
    "    sec_fr = st[column].value_counts().reset_index()[column][1]\n",
    "\n",
    "    n1 = len(st.loc[st[column].isna()])\n",
    "    x = math.ceil(top_fr*n1 / (top_fr + sec_fr))\n",
    "    cnt = x\n",
    "\n",
    "    '''x - запись в ячейке\n",
    "    cnt - сколько NaN-записей надо заменить на топ-значение (top_val)\n",
    "    остальные NaN-записи заменить на второе значение (sec_val)'''\n",
    "    def change_x_by_proportion(x):\n",
    "        global top_val\n",
    "        global sec_val\n",
    "        global cnt\n",
    "        if ((pd.isna(x)) and (cnt > 0)):\n",
    "            #print('cnt ', cnt, top_val)\n",
    "            cnt -= 1\n",
    "            return top_val\n",
    "        if ((pd.isna(x)) and (cnt <= 0)):\n",
    "            #print('sec val ', cnt, sec_val)\n",
    "            return sec_val\n",
    "        return x\n",
    "\n",
    "    st[column] = st[column].apply(change_x_by_proportion)"
   ]
  },
  {
   "cell_type": "markdown",
   "metadata": {},
   "source": [
    "числовые столбцы : age, absences, score\n",
    "\n",
    "другие столбцы с числовыми значениями содержат номинатвные данные - числа, которые означают тот или иной признак. часто для таких значений встречаться в описании стат.данные, которые выводятся для числовых признаков, игнорируем, при необходимости значения будут переписываться в object и тогда стат.данные будут иметь осмысленный вид\n",
    "(речь про функцию describe(include=[object])"
   ]
  },
  {
   "cell_type": "code",
   "execution_count": null,
   "metadata": {},
   "outputs": [],
   "source": [
    "# анализируем на выбросы числовые столбцы: age, score, absences\n",
    "column_info('age')\n",
    "numeric_col_info('age')\n",
    "has_outliers('age')"
   ]
  },
  {
   "cell_type": "markdown",
   "metadata": {},
   "source": [
    "есть выброс, на значении 22 года, удаляем его"
   ]
  },
  {
   "cell_type": "code",
   "execution_count": null,
   "metadata": {},
   "outputs": [],
   "source": [
    "students = students.loc[students.age <= 21]"
   ]
  },
  {
   "cell_type": "code",
   "execution_count": null,
   "metadata": {},
   "outputs": [],
   "source": [
    "column_info('score')\n",
    "numeric_col_info('score')\n",
    "has_outliers('score')"
   ]
  },
  {
   "cell_type": "markdown",
   "metadata": {},
   "source": [
    "удаляем строки, в которых значение score не указано"
   ]
  },
  {
   "cell_type": "code",
   "execution_count": null,
   "metadata": {},
   "outputs": [],
   "source": [
    "students = students.loc[~students.score.isna()]"
   ]
  },
  {
   "cell_type": "code",
   "execution_count": null,
   "metadata": {},
   "outputs": [],
   "source": [
    "column_info('absences')\n",
    "numeric_col_info('absences')\n",
    "has_outliers('absences')"
   ]
  },
  {
   "cell_type": "markdown",
   "metadata": {},
   "source": [
    "есть выбросы, обсудим их чуть ниже\n",
    "\n",
    "Посмотрим на связь состояния здоровья и количества пропусков занятий. Возможно, студенты с плохим состоянием здоровья пропускают занятия чаще?"
   ]
  },
  {
   "cell_type": "code",
   "execution_count": null,
   "metadata": {},
   "outputs": [],
   "source": [
    "fig, axes = plt.subplots(figsize=(6, 4))\n",
    "sns.boxplot(x='health',\n",
    "            y='absences',\n",
    "            data=students.loc[students.absences > 20],\n",
    "            ax=axes)\n",
    "axes.set_title('Boxplot for health')\n",
    "plt.xticks(rotation=45)\n",
    "plt.show()"
   ]
  },
  {
   "cell_type": "markdown",
   "metadata": {},
   "source": [
    "нет, состояние здоровья на прямую не связано. Видно, что те, у кого, состояние здоровья 1,2 пропустили зантий меньше, чем те, у кого состояние здоровья оценено на 4,5"
   ]
  },
  {
   "cell_type": "code",
   "execution_count": null,
   "metadata": {},
   "outputs": [],
   "source": [
    "fig, axes = plt.subplots(figsize=(14, 4))\n",
    "sns.boxplot(x='absences',\n",
    "            y='score',\n",
    "            data=students.loc[students.absences > 20],\n",
    "            ax=axes)\n",
    "axes.set_title('Boxplot for absences')\n",
    "plt.xticks(rotation=45)\n",
    "plt.show()"
   ]
  },
  {
   "cell_type": "markdown",
   "metadata": {},
   "source": [
    "Удалять выбросы тут не хочется, количество записей 17 (почти 4.4% выборки), к тому же в значениях выбросов 3 (из почти 100) соответствуют самым высоким баллам за экзамен (больше Q3; >70)"
   ]
  },
  {
   "cell_type": "markdown",
   "metadata": {},
   "source": [
    "пропуски заполним медианой"
   ]
  },
  {
   "cell_type": "code",
   "execution_count": null,
   "metadata": {},
   "outputs": [],
   "source": [
    "replace_nan_by_median('absences')"
   ]
  },
  {
   "cell_type": "code",
   "execution_count": null,
   "metadata": {},
   "outputs": [],
   "source": [
    "column_info('school')\n",
    "column_info('sex')\n",
    "column_info('age')"
   ]
  },
  {
   "cell_type": "code",
   "execution_count": null,
   "metadata": {},
   "outputs": [],
   "source": []
  },
  {
   "cell_type": "code",
   "execution_count": null,
   "metadata": {},
   "outputs": [],
   "source": [
    "# school, sex, age - не имеют пропусков в значениях"
   ]
  },
  {
   "cell_type": "code",
   "execution_count": null,
   "metadata": {},
   "outputs": [],
   "source": []
  },
  {
   "cell_type": "code",
   "execution_count": null,
   "metadata": {},
   "outputs": [],
   "source": [
    "column_info('address')"
   ]
  },
  {
   "cell_type": "code",
   "execution_count": null,
   "metadata": {},
   "outputs": [],
   "source": [
    "#address - traveltime\n",
    "address_traveltime = students.groupby(by=['address', 'traveltime'])[\n",
    "    'address'].agg('count')\n",
    "display(address_traveltime)\n",
    "\n",
    "address_traveltime.plot(kind='bar')"
   ]
  },
  {
   "cell_type": "markdown",
   "metadata": {},
   "source": [
    "что живующие за городом, что в городе имеют признак traveltime всех значений (1,2,3,4 встречаются в каждой выборке).\n",
    "Посмотрим, какие значения traveltime у тех, записей, где пропущено значение address"
   ]
  },
  {
   "cell_type": "code",
   "execution_count": null,
   "metadata": {},
   "outputs": [],
   "source": [
    "students.loc[students.address.isna()].traveltime.hist(range=(1, 4))"
   ]
  },
  {
   "cell_type": "markdown",
   "metadata": {},
   "source": [
    "встречаются значения 1, 2, есть пропущенные, к тому же U является модой для всей выборки в целом, заменяем пропущенные значения в столбце address на U"
   ]
  },
  {
   "cell_type": "code",
   "execution_count": null,
   "metadata": {},
   "outputs": [],
   "source": [
    "students.address = students.address.apply(lambda x: 'U' if pd.isna(x) else x)"
   ]
  },
  {
   "cell_type": "code",
   "execution_count": null,
   "metadata": {},
   "outputs": [],
   "source": []
  },
  {
   "cell_type": "code",
   "execution_count": null,
   "metadata": {},
   "outputs": [],
   "source": [
    "column_info('famsize')"
   ]
  },
  {
   "cell_type": "markdown",
   "metadata": {},
   "source": [
    "для пропущенных значений famsize введем значение UNK unknown"
   ]
  },
  {
   "cell_type": "code",
   "execution_count": null,
   "metadata": {},
   "outputs": [],
   "source": [
    "students.famsize = students.famsize.apply(lambda x: 'UNK' if pd.isna(x) else x)"
   ]
  },
  {
   "cell_type": "code",
   "execution_count": null,
   "metadata": {},
   "outputs": [],
   "source": []
  },
  {
   "cell_type": "code",
   "execution_count": null,
   "metadata": {},
   "outputs": [],
   "source": [
    "column_info('Pstatus')"
   ]
  },
  {
   "cell_type": "markdown",
   "metadata": {},
   "source": [
    "аналогично, для пропущенных значений Pstatus введем значение UNK unknown"
   ]
  },
  {
   "cell_type": "code",
   "execution_count": null,
   "metadata": {},
   "outputs": [],
   "source": [
    "students.Pstatus = students.Pstatus.apply(lambda x: 'UNK' if pd.isna(x) else x)"
   ]
  },
  {
   "cell_type": "code",
   "execution_count": null,
   "metadata": {},
   "outputs": [],
   "source": []
  },
  {
   "cell_type": "code",
   "execution_count": null,
   "metadata": {},
   "outputs": [],
   "source": []
  },
  {
   "cell_type": "code",
   "execution_count": null,
   "metadata": {},
   "outputs": [],
   "source": [
    "#nominative_cols = ['Medu', 'Fedu', 'traveltime', 'studytime', 'failures',\n",
    "#                   'famrel', 'freetime', 'goout', 'health']\n",
    "\n",
    "#for col in nominative_cols:\n",
    "#    nominative_column_to_str(col)"
   ]
  },
  {
   "cell_type": "code",
   "execution_count": null,
   "metadata": {},
   "outputs": [],
   "source": []
  },
  {
   "cell_type": "code",
   "execution_count": null,
   "metadata": {},
   "outputs": [],
   "source": [
    "column_info('Medu')"
   ]
  },
  {
   "cell_type": "code",
   "execution_count": null,
   "metadata": {},
   "outputs": [],
   "source": [
    "column_info('Mjob')"
   ]
  },
  {
   "cell_type": "markdown",
   "metadata": {},
   "source": [
    "Значение Medu (Fedu) будем заполнять с учетом значений Mjob (Fjob):\n",
    "Для каждой сферы работы найдем наиболее часто встречаемую категорию образования.\n",
    "\n",
    "В свою очередь, пропуски в Mjob (Fjob) заполним значеним other - это является и модой для выборки мам и пап, и по здравому смыслу хорошо подходит."
   ]
  },
  {
   "cell_type": "code",
   "execution_count": null,
   "metadata": {},
   "outputs": [],
   "source": [
    "job_edu_m = students.groupby(by=['Mjob', 'Medu'])['Medu'].agg('count')\n",
    "display(job_edu_m)\n",
    "\n",
    "#  чаще всего встречается такое соотношение между работа-образование среди мам:\n",
    "# at_home  - 1\n",
    "# health   - 4\n",
    "# other    - 2\n",
    "# services - 3\n",
    "# teacher  - 4\n",
    "# на основании этого делаем замену для недостающих данных в колонке Medu\n",
    "\n",
    "\n",
    "def correctMedu_byMjob():\n",
    "    students.loc[(students.Medu.isna()) & (\n",
    "        students.Mjob == 'at_home'), 'Medu'] = 1\n",
    "    students.loc[(students.Medu.isna()) & (\n",
    "        students.Mjob == 'health'), 'Medu'] = 4\n",
    "    students.loc[(students.Medu.isna()) & (\n",
    "        students.Mjob == 'other'), 'Medu'] = 2\n",
    "    students.loc[(students.Medu.isna()) & (\n",
    "        students.Mjob == 'services'), 'Medu'] = 3\n",
    "    students.loc[(students.Medu.isna()) & (\n",
    "        students.Mjob == 'teacher'), 'Medu'] = 4\n",
    "\n",
    "\n",
    "correctMedu_byMjob()"
   ]
  },
  {
   "cell_type": "code",
   "execution_count": null,
   "metadata": {},
   "outputs": [],
   "source": [
    "column_info('Mjob')"
   ]
  },
  {
   "cell_type": "code",
   "execution_count": null,
   "metadata": {},
   "outputs": [],
   "source": [
    "column_info('Fedu')"
   ]
  },
  {
   "cell_type": "markdown",
   "metadata": {},
   "source": [
    "предполагаю, что значение 40 является опечаткой, заменяю на значение 4"
   ]
  },
  {
   "cell_type": "code",
   "execution_count": null,
   "metadata": {},
   "outputs": [],
   "source": [
    "students.loc[students.Fedu == 40, 'Fedu'] = 4"
   ]
  },
  {
   "cell_type": "code",
   "execution_count": null,
   "metadata": {},
   "outputs": [],
   "source": [
    "column_info('Fedu')"
   ]
  },
  {
   "cell_type": "code",
   "execution_count": null,
   "metadata": {},
   "outputs": [],
   "source": [
    "job_edu_f = students.groupby(by=['Fjob', 'Fedu'])['Fedu'].agg('count')\n",
    "display(job_edu_m)\n",
    "\n",
    "#  чаще всего встречается такое соотношение между работа-образование среди пап:\n",
    "# at_home  - 1\n",
    "# health   - 4\n",
    "# other    - 2\n",
    "# services - 3\n",
    "# teacher  - 4\n",
    "# на основании этого делаем замену для недостающих данных в колонке Fedu\n",
    "\n",
    "\n",
    "def correctFedu_byFjob():\n",
    "    students.loc[(students.Fedu.isna()) & (\n",
    "        students.Fjob == 'at_home'), 'Fedu'] = 1\n",
    "    students.loc[(students.Fedu.isna()) & (\n",
    "        students.Fjob == 'health'), 'Fedu'] = 4\n",
    "    students.loc[(students.Fedu.isna()) & (\n",
    "        students.Fjob == 'other'), 'Fedu'] = 2\n",
    "    students.loc[(students.Fedu.isna()) & (\n",
    "        students.Fjob == 'services'), 'Fedu'] = 3\n",
    "    students.loc[(students.Fedu.isna()) & (\n",
    "        students.Fjob == 'teacher'), 'Fedu'] = 4\n",
    "\n",
    "\n",
    "correctFedu_byFjob()"
   ]
  },
  {
   "cell_type": "code",
   "execution_count": null,
   "metadata": {},
   "outputs": [],
   "source": [
    "# дополним недостающее записи в Mjob(Fjob)\n",
    "students.Mjob = students.Mjob.apply(lambda x: 'other' if pd.isna(x) else x)\n",
    "students.Fjob = students.Fjob.apply(lambda x: 'other' if pd.isna(x) else x)\n",
    "correctFedu_byFjob()\n",
    "correctMedu_byMjob()"
   ]
  },
  {
   "cell_type": "code",
   "execution_count": null,
   "metadata": {},
   "outputs": [],
   "source": []
  },
  {
   "cell_type": "code",
   "execution_count": null,
   "metadata": {},
   "outputs": [],
   "source": [
    "column_info('reason')"
   ]
  },
  {
   "cell_type": "markdown",
   "metadata": {},
   "source": [
    "мода - courses, по здравому смыслу пропущенные значения хочу заполнить значениями other"
   ]
  },
  {
   "cell_type": "code",
   "execution_count": null,
   "metadata": {},
   "outputs": [],
   "source": [
    "students.reason = students.reason.apply(lambda x: 'other' if pd.isna(x) else x)"
   ]
  },
  {
   "cell_type": "code",
   "execution_count": null,
   "metadata": {},
   "outputs": [],
   "source": [
    "column_info('guardian')"
   ]
  },
  {
   "cell_type": "code",
   "execution_count": null,
   "metadata": {},
   "outputs": [],
   "source": [
    "sns.countplot(\n",
    "    x='Pstatus', data=students.loc[students.guardian.isna()], hue='famsize')"
   ]
  },
  {
   "cell_type": "markdown",
   "metadata": {},
   "source": [
    "Наиболее часто для строк с пропущенным guardian признак проживания -  T, и семья больше чем 3 человека,  что скорее всего значит, что семья полная и проживает вместе.\n",
    "заменим пропуски на mother, как на моду\n"
   ]
  },
  {
   "cell_type": "code",
   "execution_count": null,
   "metadata": {},
   "outputs": [],
   "source": [
    "replace_nan_by_mode('guardian')"
   ]
  },
  {
   "cell_type": "code",
   "execution_count": null,
   "metadata": {},
   "outputs": [],
   "source": [
    "column_info('traveltime')"
   ]
  },
  {
   "cell_type": "markdown",
   "metadata": {},
   "source": [
    "как уже смотрели раннее - значение 1 является модой для двух групп: и для тех, кто живет в городе, и для тех, кто за городом. Заменяем пропуски на моду выборки"
   ]
  },
  {
   "cell_type": "code",
   "execution_count": null,
   "metadata": {},
   "outputs": [],
   "source": [
    "replace_nan_by_mode('traveltime')"
   ]
  },
  {
   "cell_type": "code",
   "execution_count": null,
   "metadata": {},
   "outputs": [],
   "source": [
    "column_info('studytime')"
   ]
  },
  {
   "cell_type": "markdown",
   "metadata": {},
   "source": [
    "заменим пропуски на значение моды"
   ]
  },
  {
   "cell_type": "code",
   "execution_count": null,
   "metadata": {},
   "outputs": [],
   "source": [
    "replace_nan_by_mode('studytime')"
   ]
  },
  {
   "cell_type": "code",
   "execution_count": null,
   "metadata": {
    "scrolled": true
   },
   "outputs": [],
   "source": [
    "column_info('failures')"
   ]
  },
  {
   "cell_type": "code",
   "execution_count": null,
   "metadata": {
    "scrolled": true
   },
   "outputs": [],
   "source": [
    "get_boxplot('failures')"
   ]
  },
  {
   "cell_type": "markdown",
   "metadata": {},
   "source": [
    "признак failures довольно противоречивый, значение 0 может соответствовать как отсуствию неудач, так и их количеству 4+, что видно на боксплоте. "
   ]
  },
  {
   "cell_type": "markdown",
   "metadata": {},
   "source": [
    "рассмотрим для записей с пропущенным значением failures как распредела успещность студентов"
   ]
  },
  {
   "cell_type": "code",
   "execution_count": null,
   "metadata": {
    "scrolled": true
   },
   "outputs": [],
   "source": [
    "sns.countplot(x='score', data=students.loc[students.failures.isna()])"
   ]
  },
  {
   "cell_type": "markdown",
   "metadata": {},
   "source": [
    "на графике видно, что нет явных смещений в успешности студентов. Чтоб не искажать данные введем новую категорию для NaN в столбце failures: -1"
   ]
  },
  {
   "cell_type": "code",
   "execution_count": null,
   "metadata": {},
   "outputs": [],
   "source": [
    "students.failures.fillna(-1, inplace=True)"
   ]
  },
  {
   "cell_type": "code",
   "execution_count": null,
   "metadata": {},
   "outputs": [],
   "source": [
    "get_boxplot('failures')"
   ]
  },
  {
   "cell_type": "code",
   "execution_count": null,
   "metadata": {},
   "outputs": [],
   "source": [
    "column_info('schoolsup')\n",
    "column_info('famsup')"
   ]
  },
  {
   "cell_type": "code",
   "execution_count": null,
   "metadata": {},
   "outputs": [],
   "source": [
    "sns.boxplot(x='famsup', y='score', data=students)"
   ]
  },
  {
   "cell_type": "markdown",
   "metadata": {},
   "source": [
    "по заполненным данным не очевидно, что есть связь с успешностью"
   ]
  },
  {
   "cell_type": "code",
   "execution_count": null,
   "metadata": {},
   "outputs": [],
   "source": [
    "sns.boxplot(x='famsup', y='score', data=students, hue='famrel')"
   ]
  },
  {
   "cell_type": "markdown",
   "metadata": {},
   "source": [
    "исходя из этого графика видно, что однозначной прямой связи хороших отношений в семье, помощи с уроками и успешности нет. студенты с отношениями плохими (1, оранж цвет) имеют помощь с уроками от семьи, и имеют успешность выше чем студенты с хорошими отнощениями (5, кор.цв.) и с помощью с уроками и без нее. С отношениями 2 (зел. цв.) успешность носит обратный характер зависимости с помощью с уроками в семье.\n",
    "Вероятно этот признак не будет включен в нашу модель.\n",
    "Заменим пропуски на моду."
   ]
  },
  {
   "cell_type": "code",
   "execution_count": null,
   "metadata": {},
   "outputs": [],
   "source": [
    "replace_nan_by_mode('famsup')"
   ]
  },
  {
   "cell_type": "code",
   "execution_count": null,
   "metadata": {},
   "outputs": [],
   "source": [
    "sns.boxplot(x='schoolsup', y='score', data=students, hue='school')"
   ]
  },
  {
   "cell_type": "markdown",
   "metadata": {},
   "source": [
    "школа MS не организовывает помощь студентам, а для школы GP видим, что средний бал у тех, кто берет доп занятия хоть и ниже, но в группе, где студенты не берут доп занятия размах баллов (нижний ус - который соответствует неуспешности) большой. Вероятно эти данные не будут иметь влияния в нашей модели. Заменим пропуски на моду."
   ]
  },
  {
   "cell_type": "code",
   "execution_count": null,
   "metadata": {},
   "outputs": [],
   "source": [
    "replace_nan_by_mode('schoolsup')"
   ]
  },
  {
   "cell_type": "code",
   "execution_count": null,
   "metadata": {},
   "outputs": [],
   "source": [
    "column_info('paid')\n",
    "sns.boxplot(x='paid', y='score', data=students)"
   ]
  },
  {
   "cell_type": "code",
   "execution_count": null,
   "metadata": {},
   "outputs": [],
   "source": [
    "column_info('activities')\n",
    "sns.boxplot(x='activities', y='score', data=students)"
   ]
  },
  {
   "cell_type": "code",
   "execution_count": null,
   "metadata": {},
   "outputs": [],
   "source": [
    "column_info('nursery')\n",
    "sns.boxplot(x='nursery', y='score', data=students)"
   ]
  },
  {
   "cell_type": "markdown",
   "metadata": {},
   "source": [
    "Похоже, что параметры paid, activities, nursery не войдут в модель. Заполним пропуски значениями моды.\n",
    "Возможно хорошим вариантом будет заполнить пропуски пропорционально текущим имеющимся распределениям параметра."
   ]
  },
  {
   "cell_type": "code",
   "execution_count": null,
   "metadata": {},
   "outputs": [],
   "source": [
    "replace_nan_by_mode('paid')\n",
    "replace_nan_by_mode('activities')\n",
    "replace_nan_by_mode('nursery')"
   ]
  },
  {
   "cell_type": "code",
   "execution_count": null,
   "metadata": {},
   "outputs": [],
   "source": [
    "column_info('studytime, granular')"
   ]
  },
  {
   "cell_type": "markdown",
   "metadata": {},
   "source": [
    "возможно studytime, granular это категориальный признак. введем для пропущенных значений новую категорию 0"
   ]
  },
  {
   "cell_type": "code",
   "execution_count": null,
   "metadata": {},
   "outputs": [],
   "source": [
    "students['studytime, granular'].fillna(0, inplace=True)"
   ]
  },
  {
   "cell_type": "code",
   "execution_count": null,
   "metadata": {},
   "outputs": [],
   "source": [
    "column_info('higher')"
   ]
  },
  {
   "cell_type": "code",
   "execution_count": null,
   "metadata": {},
   "outputs": [],
   "source": [
    "sns.countplot(x='score', data=students.loc[~students.higher.isna()])"
   ]
  },
  {
   "cell_type": "code",
   "execution_count": null,
   "metadata": {},
   "outputs": [],
   "source": [
    "sns.countplot(x='score', data=students.loc[students.higher.isna()])"
   ]
  },
  {
   "cell_type": "markdown",
   "metadata": {},
   "source": [
    "однозначных выводов сделать не получается, введем новую категорию -1"
   ]
  },
  {
   "cell_type": "code",
   "execution_count": null,
   "metadata": {},
   "outputs": [],
   "source": [
    "students.higher.fillna(-1, inplace=True)"
   ]
  },
  {
   "cell_type": "code",
   "execution_count": null,
   "metadata": {},
   "outputs": [],
   "source": []
  },
  {
   "cell_type": "code",
   "execution_count": null,
   "metadata": {},
   "outputs": [],
   "source": [
    "column_info('internet')"
   ]
  },
  {
   "cell_type": "markdown",
   "metadata": {},
   "source": [
    "заменим пропуски в  столбце internet на моду (можно заменить так же и пропорционально replace_nan_in_proportion())"
   ]
  },
  {
   "cell_type": "code",
   "execution_count": null,
   "metadata": {},
   "outputs": [],
   "source": [
    "replace_nan_by_mode('internet')"
   ]
  },
  {
   "cell_type": "code",
   "execution_count": null,
   "metadata": {},
   "outputs": [],
   "source": []
  },
  {
   "cell_type": "code",
   "execution_count": null,
   "metadata": {},
   "outputs": [],
   "source": [
    "column_info('romantic')"
   ]
  },
  {
   "cell_type": "markdown",
   "metadata": {},
   "source": [
    "по здравому смыслу и \"по моде\" хочется заменить пропуски на значение no"
   ]
  },
  {
   "cell_type": "code",
   "execution_count": null,
   "metadata": {},
   "outputs": [],
   "source": [
    "replace_nan_by_mode('romantic')"
   ]
  },
  {
   "cell_type": "code",
   "execution_count": null,
   "metadata": {},
   "outputs": [],
   "source": [
    "column_info('famrel')"
   ]
  },
  {
   "cell_type": "markdown",
   "metadata": {},
   "source": [
    "вероятно значение -1 это опечатка, заменим на 1"
   ]
  },
  {
   "cell_type": "code",
   "execution_count": null,
   "metadata": {},
   "outputs": [],
   "source": [
    "students.loc[students.famrel == -1, 'famrel'] = 1"
   ]
  },
  {
   "cell_type": "markdown",
   "metadata": {},
   "source": [
    "пропущенных значений 27, заменить на моду - плохой выбор, введем новую категорию -1, можно было б думать в сторону замены пропусков в пропорциональных частях, но кажется этот параметр может не войти в модель."
   ]
  },
  {
   "cell_type": "code",
   "execution_count": null,
   "metadata": {},
   "outputs": [],
   "source": [
    "students.famrel.fillna(-1, inplace=True)"
   ]
  },
  {
   "cell_type": "code",
   "execution_count": null,
   "metadata": {},
   "outputs": [],
   "source": [
    "column_info('freetime')"
   ]
  },
  {
   "cell_type": "code",
   "execution_count": null,
   "metadata": {},
   "outputs": [],
   "source": [
    "column_info('goout')"
   ]
  },
  {
   "cell_type": "code",
   "execution_count": null,
   "metadata": {},
   "outputs": [],
   "source": [
    "column_info('health')"
   ]
  },
  {
   "cell_type": "markdown",
   "metadata": {},
   "source": [
    "Для признаков freetime, goout, healt попробуем заполнить пропуски модами, оценим т-стастики, и сравним, что будет если заполним их новыми введенными категориями (-1)"
   ]
  },
  {
   "cell_type": "code",
   "execution_count": null,
   "metadata": {},
   "outputs": [],
   "source": [
    "# заполнение модой\n",
    "replace_nan_by_mode('freetime')\n",
    "replace_nan_by_mode('goout')\n",
    "replace_nan_by_mode('health')"
   ]
  },
  {
   "cell_type": "code",
   "execution_count": null,
   "metadata": {},
   "outputs": [],
   "source": [
    "# заполнение категорией -1\n",
    "#students.freetime.fillna(-1, inplace=True)\n",
    "#students.goout.fillna(-1, inplace=True)\n",
    "#students.health.fillna(-1, inplace=True)\n"
   ]
  },
  {
   "cell_type": "code",
   "execution_count": null,
   "metadata": {
    "scrolled": true
   },
   "outputs": [],
   "source": [
    "for col in ['school', 'sex', 'address', 'famsize', 'Pstatus', 'Medu', 'Fedu',\n",
    "            'Mjob', 'Fjob', 'reason', 'guardian', 'traveltime', 'studytime',\n",
    "            'failures', 'schoolsup', 'famsup', 'paid', 'activities', 'nursery',\n",
    "            'studytime, granular', 'higher', 'internet', 'romantic', 'famrel',\n",
    "            'freetime', 'goout', 'health']:\n",
    "    get_boxplot(col)"
   ]
  },
  {
   "cell_type": "markdown",
   "metadata": {},
   "source": [
    "есть следуюшие предположения (если про столбец ничего не написано, то данные \"интересные\", с какими-то подозрениями на зависимости):\n",
    "\n",
    "school: в одной школе размах данных большой, но и выборка студентов существенно больше чем во второй школе. возможно параметр не войдет в модель\n",
    "\n",
    "famsize: семьи больше 3 человек - существенная часть выборки, имеет больший размах данных по успеваемости, чем другие категории, что логично, возможно этот параметр так же не будет входить в модель\n",
    "\n",
    "Pstatus: имеет существенный перевес в выборке значение Т, при том, что на боксплоте видно, что срдняя успеваемость не варьируется в группах (A, UNK, T), размах по величине схож в группах (UNK, T). Возможно параметр не войдет в модель\n",
    "\n",
    "reason: слабо варьируется средняя успеваемость в выделенных группах, возможно параметр не войдет в модель\n",
    "\n",
    "guardian: тоже слабо варьируется средняя успеваемость, размах в группе с признаком mother больше, но и сама выборка существенно больше других. Возможно параметр не пойдет в модель\n",
    "\n",
    "traveltime: слабо варьируется средняя успеваемость, размах с признаком 1 больше, как и сама выборка студентов с призаком 1. Возможно параметр не войдет в модель\n",
    "\n",
    "famsup: Возможно не войдет в модель, на боксплоте не очевидны зависимости\n",
    "paid: Возможно не войдет в модель, на боксплоте не очевидны зависимости\n",
    "activities: Возможно не войдет в модель, на боксплоте не очевидны зависимости\n",
    "nursery: Возможно не войдет в модель, на боксплоте не очевидны зависимости\n",
    "\n",
    "intenet: количественно очень смещенная выборка по признаку (yes/no). разные размеры рахмахов. Возможно параметр не войдет в модель\n",
    "\n",
    "famrel: слабо варьируется средняя успеваемость. Возможно параметр не войдет в модель"
   ]
  },
  {
   "cell_type": "code",
   "execution_count": null,
   "metadata": {},
   "outputs": [],
   "source": []
  },
  {
   "cell_type": "code",
   "execution_count": null,
   "metadata": {},
   "outputs": [],
   "source": []
  },
  {
   "cell_type": "markdown",
   "metadata": {},
   "source": [
    "постановка теста \"чем заполнить значения freetime, goout, healt\": перезагрузить ядро юпитера, выполнить все стрOки до строкИ замены, дальше выполнить желанные замены пропусков, и сравнить полученные в двух разных \"заполнениях\" результируещие списки значимых критериев (функция get_stat_dif).\n",
    "\n",
    "заполненно модами:\n",
    "\n",
    "Найдены статистически значимые различия для колонки sex\n",
    "\n",
    "Найдены статистически значимые различия для колонки address\n",
    "\n",
    "Найдены статистически значимые различия для колонки Medu\n",
    "\n",
    "Найдены статистически значимые различия для колонки Mjob\n",
    "\n",
    "Найдены статистически значимые различия для колонки failures\n",
    "\n",
    "Найдены статистически значимые различия для колонки higher\n",
    "\n",
    "Найдены статистически значимые различия для колонки romantic\n",
    "\n",
    "\n",
    "\n",
    "заполнено новыми категориями -1:\n",
    "\n",
    "Найдены статистически значимые различия для колонки sex\n",
    "\n",
    "Найдены статистически значимые различия для колонки address\n",
    "\n",
    "Найдены статистически значимые различия для колонки Medu\n",
    "\n",
    "Найдены статистически значимые различия для колонки Mjob\n",
    "\n",
    "Найдены статистически значимые различия для колонки failures\n",
    "\n",
    "Найдены статистически значимые различия для колонки higher\n",
    "\n",
    "Найдены статистически значимые различия для колонки romantic\n",
    "\n",
    "\n",
    "списки совпадают\n",
    "\n",
    "дабы не плодить сущности для замены выбираем значения мод"
   ]
  },
  {
   "cell_type": "code",
   "execution_count": null,
   "metadata": {},
   "outputs": [],
   "source": [
    "for col in ['school', 'sex', 'address', 'famsize', 'Pstatus', 'Medu', 'Fedu',\n",
    "            'Mjob', 'Fjob', 'reason', 'guardian', 'traveltime', 'studytime',\n",
    "            'failures', 'schoolsup', 'famsup', 'paid', 'activities', 'nursery',\n",
    "            'studytime, granular', 'higher', 'internet', 'romantic', 'famrel',\n",
    "            'freetime', 'goout', 'health']:\n",
    "    get_stat_dif(col)"
   ]
  },
  {
   "cell_type": "code",
   "execution_count": null,
   "metadata": {},
   "outputs": [],
   "source": []
  },
  {
   "cell_type": "code",
   "execution_count": null,
   "metadata": {},
   "outputs": [],
   "source": [
    "correlation1 = students[['score', 'age', 'absences']].corr()\n",
    "sns.heatmap(correlation1, annot=True, cmap='YlGn')"
   ]
  },
  {
   "cell_type": "markdown",
   "metadata": {},
   "source": [
    "age, absences имеют корреляцию с успеваемостью -0.15 и ~0.1(округлили). Добавим их в модель."
   ]
  },
  {
   "cell_type": "markdown",
   "metadata": {},
   "source": [
    "ради исследовательствого интереса предположим, что sudytime, granular это числовое знаечние"
   ]
  },
  {
   "cell_type": "code",
   "execution_count": null,
   "metadata": {},
   "outputs": [],
   "source": [
    "correlation2 = students[['score', 'age',\n",
    "                         'studytime, granular', 'absences']].corr()\n",
    "sns.heatmap(correlation2, annot=True, cmap='YlGn')"
   ]
  },
  {
   "cell_type": "markdown",
   "metadata": {},
   "source": [
    "из интересного: видно слабую корреляцию между studytime, granular(sg) и absences. Возможно неописанный признак sg имеет физический смысл частичной учебы то дома то в школе в связи с пропусками занятий, но помним, что мы предположили что значения -3,-6,-9,-12,0 сейчас несут числовой смысл, не категориальный. это всего лишь наши допущения."
   ]
  },
  {
   "cell_type": "code",
   "execution_count": null,
   "metadata": {},
   "outputs": [],
   "source": [
    "students.info()"
   ]
  },
  {
   "cell_type": "markdown",
   "metadata": {},
   "source": [
    "Промежуточные выводы написаны по ходу блокнота и в выполняемых командах"
   ]
  },
  {
   "cell_type": "markdown",
   "metadata": {},
   "source": [
    "Резюме\n",
    "\n",
    "Основываясь на т-тесте в модель к рассмотрению предлагается включить следующие столбцы:\n",
    "sex\n",
    "address\n",
    "Medu\n",
    "Mjob\n",
    "failures\n",
    "higher\n",
    "romantic\n",
    "\n",
    "так же включить в модель age и absences. Последний признак довольно противоречивый, считаю важным оставить его без отсечения выбросов, принимать дальнейшее решение по его видоизменению (убрать выбросы) или полному удалению, с учетом дальнейшего хода исследований.\n",
    "\n"
   ]
  },
  {
   "cell_type": "code",
   "execution_count": null,
   "metadata": {},
   "outputs": [],
   "source": [
    "sns.distplot(students.score)"
   ]
  },
  {
   "cell_type": "code",
   "execution_count": null,
   "metadata": {},
   "outputs": [],
   "source": []
  },
  {
   "cell_type": "markdown",
   "metadata": {},
   "source": [
    "график получился бимодальным из-за наличия большого количества записей с успеваемостью 0. Значение 0 не является выбросом. Визуально \"колокол\" распределения успеваемости похож на нормальное распределение. Распрделение возраста (jointplot ниже)тоже имеет форму смещенного колокола. \n",
    "\n",
    "Целесообразность считать что это нормальное распределение сомнительна из соображений здравого смысла: поступающие в школу на первый год обучения имеют(в среднем) константный возраст, в процессе обучения учащиеся могут отчисляться, и соответственно на следующих курсах (более старших студентов) их может учиться меньше. НО, тут надо больше знать о том как собирались данные этой выборки, да и вообще скорее надо учитывать, что сама величина возраст - Дискретная, а не непрерывная, но модель это модель..."
   ]
  },
  {
   "cell_type": "code",
   "execution_count": null,
   "metadata": {},
   "outputs": [],
   "source": [
    "sns.jointplot(x='age',\n",
    "              y='score',\n",
    "              data=students)"
   ]
  },
  {
   "cell_type": "code",
   "execution_count": null,
   "metadata": {},
   "outputs": [],
   "source": [
    "sns.jointplot(x='absences',\n",
    "              y='score',\n",
    "              data=students)"
   ]
  },
  {
   "cell_type": "markdown",
   "metadata": {},
   "source": [
    "посмотрим \"что будет если\"\n",
    "обрежем выбросы по параметру absences и посмотрим на распределние успеваемости/пропусков, так красивее видно распределение параметра absences, который словами можно описать, что среди студентов существует тенденция не пропускать занятия."
   ]
  },
  {
   "cell_type": "code",
   "execution_count": null,
   "metadata": {},
   "outputs": [],
   "source": [
    "stud_absenses_otliers = students.loc[students.absences <= 20]\n",
    "sns.jointplot(x='absences',\n",
    "              y='score',\n",
    "              data=stud_absenses_otliers)"
   ]
  },
  {
   "cell_type": "code",
   "execution_count": null,
   "metadata": {},
   "outputs": [],
   "source": []
  },
  {
   "cell_type": "code",
   "execution_count": null,
   "metadata": {},
   "outputs": [],
   "source": []
  },
  {
   "cell_type": "code",
   "execution_count": null,
   "metadata": {},
   "outputs": [],
   "source": []
  },
  {
   "cell_type": "code",
   "execution_count": null,
   "metadata": {},
   "outputs": [],
   "source": []
  },
  {
   "cell_type": "markdown",
   "metadata": {},
   "source": [
    "Далее быстрый эксперимент на коленке \"а что будет если\" из существуюшей выборки мы б удаляли все строки, где встречались какие-то незаполненные значения"
   ]
  },
  {
   "cell_type": "code",
   "execution_count": null,
   "metadata": {},
   "outputs": [],
   "source": []
  },
  {
   "cell_type": "code",
   "execution_count": null,
   "metadata": {},
   "outputs": [],
   "source": [
    "stud_super_cutted = pd.read_csv('stud_math.csv')\n",
    "columns = stud_super_cutted.columns\n",
    "columns\n",
    "for col in columns:\n",
    "    stud_super_cutted = stud_super_cutted.loc[~stud_super_cutted[col].isna()]\n",
    "\n",
    "stud_super_cutted.info()"
   ]
  },
  {
   "cell_type": "markdown",
   "metadata": {},
   "source": [
    "осталось 97 записей"
   ]
  },
  {
   "cell_type": "code",
   "execution_count": null,
   "metadata": {},
   "outputs": [],
   "source": [
    "corr_s_c1 = stud_super_cutted[['score', 'age', 'absences']].corr()\n",
    "sns.heatmap(corr_s_c1, annot=True, cmap='YlGn')"
   ]
  },
  {
   "cell_type": "markdown",
   "metadata": {},
   "source": [
    "тут корреляции глобально - как были незначительными, так и остались, даже еще меньше видна связь успеваемости и пропусков (ну маленькая выборка, как ни крути)"
   ]
  },
  {
   "cell_type": "code",
   "execution_count": null,
   "metadata": {},
   "outputs": [],
   "source": [
    "def get_stat_dif_s_c(column):\n",
    "    cols = stud_super_cutted.loc[:, column].value_counts().index[:10]\n",
    "    combinations_all = list(combinations(cols, 2))\n",
    "    for comb in combinations_all:\n",
    "        if ttest_ind(stud_super_cutted.loc[stud_super_cutted.loc[:, column] == comb[0], 'score'],\n",
    "                     stud_super_cutted.loc[stud_super_cutted.loc[:, column] == comb[1], 'score']).pvalue \\\n",
    "                <= 0.05/len(combinations_all):  # Учли поправку Бонферони\n",
    "            print('Найдены статистически значимые различия для колонки', column)\n",
    "            break"
   ]
  },
  {
   "cell_type": "code",
   "execution_count": null,
   "metadata": {},
   "outputs": [],
   "source": []
  },
  {
   "cell_type": "code",
   "execution_count": null,
   "metadata": {},
   "outputs": [],
   "source": [
    "for col in ['school', 'sex', 'address', 'famsize', 'Pstatus', 'Medu', 'Fedu',\n",
    "            'Mjob', 'Fjob', 'reason', 'guardian', 'traveltime', 'studytime',\n",
    "            'failures', 'schoolsup', 'famsup', 'paid', 'activities', 'nursery',\n",
    "            'studytime, granular', 'higher', 'internet', 'romantic', 'famrel',\n",
    "            'freetime', 'goout', 'health']:\n",
    "    get_stat_dif_s_c(col)"
   ]
  },
  {
   "cell_type": "markdown",
   "metadata": {},
   "source": [
    "конечно и тут другой набор ответов выходит. видно, что он сильно отличается, если изменить параметр alpha 0.1, то еще к списку добавить колонка failures.\n",
    "В общем это очень не похоже на то, какие выводы были сделаны по большей выборке, где я максимально вдумчиво старалась дополнить пробелы в данных. \n",
    "\n",
    "ВЫВОД: надо стараться дополнять данные, а не безжалостно их выбрасывать"
   ]
  },
  {
   "cell_type": "code",
   "execution_count": null,
   "metadata": {},
   "outputs": [],
   "source": []
  },
  {
   "cell_type": "code",
   "execution_count": null,
   "metadata": {},
   "outputs": [],
   "source": []
  },
  {
   "cell_type": "code",
   "execution_count": null,
   "metadata": {},
   "outputs": [],
   "source": []
  },
  {
   "cell_type": "markdown",
   "metadata": {},
   "source": [
    "тест\n",
    "\n",
    "заменили некоторые категориальные данные (2 значения) с сохранением пропорции распределения значений.\n",
    "\n",
    "famsup, schoolsup, paid, activities, nursery, interner\n",
    "\n",
    "провели т-тест. получили такой же набор значимых параметров.\n",
    "\n",
    "значит такая предобработка данных тоже имеет право на существование"
   ]
  },
  {
   "cell_type": "code",
   "execution_count": null,
   "metadata": {},
   "outputs": [],
   "source": [
    "students = pd.read_csv('stud_math.csv')\n",
    "\n",
    "\n",
    "'''NAN fill'''\n",
    "students = students.loc[students.age <= 21]\n",
    "students = students.loc[~students.score.isna()]\n",
    "replace_nan_by_median('absences')\n",
    "students.address = students.address.apply(\n",
    "    lambda x: 'U' if pd.isna(x) else x)\n",
    "students.famsize = students.famsize.apply(\n",
    "    lambda x: 'UNK' if pd.isna(x) else x)\n",
    "students.Pstatus = students.Pstatus.apply(\n",
    "    lambda x: 'UNK' if pd.isna(x) else x)\n",
    "correctMedu_byMjob()\n",
    "students.loc[students.Fedu == 40, 'Fedu'] = 4\n",
    "correctFedu_byFjob()\n",
    "students.Mjob = students.Mjob.apply(lambda x: 'other' if pd.isna(x) else x)\n",
    "students.Fjob = students.Fjob.apply(lambda x: 'other' if pd.isna(x) else x)\n",
    "correctFedu_byFjob()\n",
    "correctMedu_byMjob()\n",
    "students.reason = students.reason.apply(\n",
    "    lambda x: 'other' if pd.isna(x) else x)\n",
    "replace_nan_by_mode('guardian')\n",
    "replace_nan_by_mode('traveltime')\n",
    "replace_nan_by_mode('studytime')\n",
    "students.failures.fillna(-1, inplace=True)\n",
    "\n",
    "replace_nan_in_propotion('famsup')\n",
    "replace_nan_in_propotion('schoolsup')\n",
    "replace_nan_in_propotion('paid')\n",
    "replace_nan_in_propotion('activities')\n",
    "replace_nan_in_propotion('nursery')\n",
    "\n",
    "students['studytime, granular'].fillna(0, inplace=True)\n",
    "students.higher.fillna(-1, inplace=True)\n",
    "\n",
    "replace_nan_in_propotion('internet')\n",
    "\n",
    "\n",
    "replace_nan_by_mode('romantic')\n",
    "students.loc[students.famrel == -1, 'famrel'] = 1\n",
    "students.famrel.fillna(-1, inplace=True)\n",
    "replace_nan_by_mode('freetime')\n",
    "replace_nan_by_mode('goout')\n",
    "replace_nan_by_mode('health')\n",
    "\n",
    "\n",
    "for col in ['school', 'sex', 'address', 'famsize', 'Pstatus', 'Medu', 'Fedu',\n",
    "            'Mjob', 'Fjob', 'reason', 'guardian', 'traveltime', 'studytime',\n",
    "            'failures', 'schoolsup', 'famsup', 'paid', 'activities', 'nursery',\n",
    "            'studytime, granular', 'higher', 'internet', 'romantic', 'famrel',\n",
    "            'freetime', 'goout', 'health']:\n",
    "    get_stat_dif(col)"
   ]
  },
  {
   "cell_type": "code",
   "execution_count": null,
   "metadata": {},
   "outputs": [],
   "source": [
    "for col in ['school', 'sex', 'address', 'famsize', 'Pstatus', 'Medu', 'Fedu',\n",
    "            'Mjob', 'Fjob', 'reason', 'guardian', 'traveltime', 'studytime',\n",
    "            'failures', 'schoolsup', 'famsup', 'paid', 'activities', 'nursery',\n",
    "            'studytime, granular', 'higher', 'internet', 'romantic', 'famrel',\n",
    "            'freetime', 'goout', 'health']:\n",
    "    get_stat_dif(col)"
   ]
  }
 ],
 "metadata": {
  "kernelspec": {
   "display_name": "Python 3",
   "language": "python",
   "name": "python3"
  },
  "language_info": {
   "codemirror_mode": {
    "name": "ipython",
    "version": 3
   },
   "file_extension": ".py",
   "mimetype": "text/x-python",
   "name": "python",
   "nbconvert_exporter": "python",
   "pygments_lexer": "ipython3",
   "version": "3.7.6"
  }
 },
 "nbformat": 4,
 "nbformat_minor": 4
}
